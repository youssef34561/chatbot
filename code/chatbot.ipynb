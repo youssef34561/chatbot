{
  "nbformat": 4,
  "nbformat_minor": 0,
  "metadata": {
    "colab": {
      "name": "chatbot.ipynb",
      "provenance": [],
      "collapsed_sections": []
    },
    "kernelspec": {
      "name": "python3",
      "display_name": "Python 3"
    },
    "accelerator": "GPU"
  },
  "cells": [
    {
      "cell_type": "markdown",
      "metadata": {
        "id": "SJtLx8S1tHOM",
        "colab_type": "text"
      },
      "source": [
        "# This notebook uses google colab with GPU runtime\n"
      ]
    },
    {
      "cell_type": "code",
      "metadata": {
        "id": "UMJDiILPglFP",
        "colab_type": "code",
        "colab": {
          "base_uri": "https://localhost:8080/",
          "height": 128
        },
        "outputId": "4afa4f5d-b1e2-4bfd-9be9-ec86ecd593f8"
      },
      "source": [
        "#mount google drive \n",
        "#i will use it to load a glove file \n",
        "from google.colab import drive\n",
        "drive.mount('/content/drive')"
      ],
      "execution_count": 1,
      "outputs": [
        {
          "output_type": "stream",
          "text": [
            "Go to this URL in a browser: https://accounts.google.com/o/oauth2/auth?client_id=947318989803-6bn6qk8qdgf4n4g3pfee6491hc0brc4i.apps.googleusercontent.com&redirect_uri=urn%3aietf%3awg%3aoauth%3a2.0%3aoob&response_type=code&scope=email%20https%3a%2f%2fwww.googleapis.com%2fauth%2fdocs.test%20https%3a%2f%2fwww.googleapis.com%2fauth%2fdrive%20https%3a%2f%2fwww.googleapis.com%2fauth%2fdrive.photos.readonly%20https%3a%2f%2fwww.googleapis.com%2fauth%2fpeopleapi.readonly\n",
            "\n",
            "Enter your authorization code:\n",
            "··········\n",
            "Mounted at /content/drive\n"
          ],
          "name": "stdout"
        }
      ]
    },
    {
      "cell_type": "code",
      "metadata": {
        "id": "CEXAZKd8tzBQ",
        "colab_type": "code",
        "colab": {
          "base_uri": "https://localhost:8080/",
          "height": 35
        },
        "outputId": "c8ba86d7-fa90-4ed5-adf3-78ab463e217d"
      },
      "source": [
        "import numpy as np\n",
        "%tensorflow_version 2.x\n",
        "import tensorflow as tf\n",
        "import pickle\n",
        "from tensorflow.keras import layers , activations , models , preprocessing"
      ],
      "execution_count": 2,
      "outputs": [
        {
          "output_type": "stream",
          "text": [
            "TensorFlow 2.x selected.\n"
          ],
          "name": "stdout"
        }
      ]
    },
    {
      "cell_type": "markdown",
      "metadata": {
        "id": "v2CCovq3t9QH",
        "colab_type": "text"
      },
      "source": [
        "# **Download and preprocess data**\n",
        "This dataset is from kaggle it contain pairs of questions and answers \n"
      ]
    },
    {
      "cell_type": "code",
      "metadata": {
        "id": "rXa2-zvyt8PF",
        "colab_type": "code",
        "colab": {}
      },
      "source": [
        "import requests, zipfile, io\n",
        "\n",
        "r = requests.get( 'https://github.com/shubham0204/Dataset_Archives/blob/master/chatbot_nlp.zip?raw=true' ) \n",
        "z = zipfile.ZipFile(io.BytesIO(r.content))\n",
        "z.extractall()"
      ],
      "execution_count": 0,
      "outputs": []
    },
    {
      "cell_type": "code",
      "metadata": {
        "id": "-j6KNxsQuc1p",
        "colab_type": "code",
        "colab": {
          "base_uri": "https://localhost:8080/",
          "height": 35
        },
        "outputId": "5b69049d-077a-4021-f423-0238c76beb96"
      },
      "source": [
        "from tensorflow.keras import preprocessing , utils\n",
        "import os\n",
        "import yaml\n",
        "\n",
        "dir_path = 'chatbot_nlp/data'\n",
        "files = os.listdir(dir_path + os.sep)\n",
        "\n",
        "questions = []\n",
        "answers = []\n",
        "\n",
        "#if a question has more tha one ansewr it add them together \n",
        "for filepath in files:\n",
        "    stream = open( dir_path + os.sep + filepath , 'rb')\n",
        "    docs = yaml.safe_load(stream)\n",
        "    conversations = docs['conversations']\n",
        "    for con in conversations:\n",
        "        if len(con) > 2 :\n",
        "            questions.append(con[0])\n",
        "            replies = con[ 1 : ]\n",
        "            ans = ''\n",
        "            for rep in replies:\n",
        "                ans += ' ' + rep\n",
        "            answers.append( ans )\n",
        "        elif len( con )> 1:\n",
        "            questions.append(con[0])\n",
        "            answers.append(con[1])\n",
        "\n",
        "#remove answers which is dict type and it is not many \n",
        "answers_with_tags = []\n",
        "for i in range(len( answers)):\n",
        "    if type( answers[i] ) == str:\n",
        "        answers_with_tags.append( answers[i] )\n",
        "    else:\n",
        "        questions.pop(i)\n",
        "\n",
        "#add start and end to work with lstm and know the start and the end of the sentence \n",
        "answers = []\n",
        "for i in range( len( answers_with_tags ) ) :\n",
        "    answers.append( '<START> ' + answers_with_tags[i] + ' <END>' )\n",
        "\n",
        "tokenizer = preprocessing.text.Tokenizer()\n",
        "tokenizer.fit_on_texts( questions + answers )\n",
        "VOCAB_SIZE = len( tokenizer.word_index )+1\n",
        "print( 'VOCAB SIZE : {}'.format( VOCAB_SIZE ))"
      ],
      "execution_count": 4,
      "outputs": [
        {
          "output_type": "stream",
          "text": [
            "VOCAB SIZE : 1894\n"
          ],
          "name": "stdout"
        }
      ]
    },
    {
      "cell_type": "code",
      "metadata": {
        "id": "7Y1SaDoSvbiw",
        "colab_type": "code",
        "colab": {}
      },
      "source": [
        "#loadig embeddings_index of glove \n",
        "embeddings_index = {}\n",
        "f = open('/content/drive/My Drive/glove.6B.100d.txt')\n",
        "for line in f:\n",
        "    values = line.split()\n",
        "    word = values[0]\n",
        "    coefs = np.asarray(values[1:], dtype='float32')\n",
        "    embeddings_index[word] = coefs\n",
        "f.close()"
      ],
      "execution_count": 0,
      "outputs": []
    },
    {
      "cell_type": "code",
      "metadata": {
        "id": "j7q0Y-nEwIIA",
        "colab_type": "code",
        "colab": {
          "base_uri": "https://localhost:8080/",
          "height": 72
        },
        "outputId": "0eef219c-b2b1-4d9f-8531-8ecdcc3c1dd2"
      },
      "source": [
        "import re\n",
        "\n",
        "#get the vocaulary \n",
        "vocab = []\n",
        "for word in tokenizer.word_index:\n",
        "    vocab.append( word )\n",
        "\n",
        "def tokenize(sentences):\n",
        "    tokens_list = []\n",
        "    vocabulary = []\n",
        "    for sentence in sentences:\n",
        "        sentence = sentence.lower()\n",
        "        sentence = re.sub( '[^a-zA-Z]', ' ', sentence )\n",
        "        tokens = sentence.split()\n",
        "        vocabulary += tokens\n",
        "        tokens_list.append( tokens )\n",
        "    return tokens_list , vocabulary\n",
        "\n",
        "embedding_matrix = np.zeros((VOCAB_SIZE , 100 ))\n",
        "for i in range(len(tokenizer.word_index)):\n",
        "    embedding_matrix[i] = embeddings_index.get(vocab[i])\n",
        "\n",
        "# encoder_input_data\n",
        "#the first input which includes questions in sequence\n",
        "tokenized_questions = tokenizer.texts_to_sequences(questions)\n",
        "maxlen_questions = max([ len(x) for x in tokenized_questions])\n",
        "padded_questions = preprocessing.sequence.pad_sequences( tokenized_questions , maxlen=maxlen_questions , padding='post' )\n",
        "encoder_input_data = np.array( padded_questions )\n",
        "print(encoder_input_data.shape , maxlen_questions)\n",
        "\n",
        "# decoder_input_data\n",
        "#the second input which includes answers in sequence with start and end \n",
        "tokenized_answers = tokenizer.texts_to_sequences( answers )\n",
        "maxlen_answers = max( [ len(x) for x in tokenized_answers ] )\n",
        "padded_answers = preprocessing.sequence.pad_sequences( tokenized_answers , maxlen=maxlen_answers , padding='post' )\n",
        "decoder_input_data = np.array( padded_answers )\n",
        "print( decoder_input_data.shape , maxlen_answers )\n",
        "\n",
        "# decoder_output_data\n",
        "#output which includes answers in sequence without start \n",
        "tokenized_answers = tokenizer.texts_to_sequences( answers )\n",
        "for i in range(len(tokenized_answers)) :\n",
        "    tokenized_answers[i] = tokenized_answers[i][1:]\n",
        "padded_answers = preprocessing.sequence.pad_sequences( tokenized_answers , maxlen=maxlen_answers , padding='post' )\n",
        "onehot_answers = utils.to_categorical( padded_answers , VOCAB_SIZE )\n",
        "decoder_output_data = np.array( onehot_answers )\n",
        "print( decoder_output_data.shape )\n"
      ],
      "execution_count": 6,
      "outputs": [
        {
          "output_type": "stream",
          "text": [
            "(564, 22) 22\n",
            "(564, 74) 74\n",
            "(564, 74, 1894)\n"
          ],
          "name": "stdout"
        }
      ]
    },
    {
      "cell_type": "code",
      "metadata": {
        "id": "DcJUv6qrwMFc",
        "colab_type": "code",
        "colab": {
          "base_uri": "https://localhost:8080/",
          "height": 454
        },
        "outputId": "d41ace40-8a8d-482c-f297-7918eb7c32a9"
      },
      "source": [
        "# finnaly our seq2seq model\n",
        "encoder_inputs = tf.keras.layers.Input(shape=( None , ))\n",
        "encoder_embedding = tf.keras.layers.Embedding( VOCAB_SIZE, 200 , mask_zero=True ) (encoder_inputs)\n",
        "encoder_outputs , state_h , state_c = tf.keras.layers.LSTM( 200 , return_state=True )( encoder_embedding )\n",
        "encoder_states = [ state_h , state_c ]\n",
        "\n",
        "decoder_inputs = tf.keras.layers.Input(shape=( None ,  ))\n",
        "decoder_embedding = tf.keras.layers.Embedding( VOCAB_SIZE, 200 , mask_zero=True) (decoder_inputs)\n",
        "decoder_lstm = tf.keras.layers.LSTM( 200 , return_state=True , return_sequences=True )\n",
        "decoder_outputs , _ , _ = decoder_lstm ( decoder_embedding , initial_state=encoder_states )\n",
        "decoder_dense = tf.keras.layers.Dense( VOCAB_SIZE , activation=tf.keras.activations.softmax ) \n",
        "output = decoder_dense ( decoder_outputs )\n",
        "\n",
        "model = tf.keras.models.Model([encoder_inputs, decoder_inputs], output )\n",
        "model.compile(optimizer=tf.keras.optimizers.RMSprop(), loss='categorical_crossentropy')\n",
        "\n",
        "model.summary()"
      ],
      "execution_count": 15,
      "outputs": [
        {
          "output_type": "stream",
          "text": [
            "Model: \"model_6\"\n",
            "__________________________________________________________________________________________________\n",
            "Layer (type)                    Output Shape         Param #     Connected to                     \n",
            "==================================================================================================\n",
            "input_10 (InputLayer)           [(None, None)]       0                                            \n",
            "__________________________________________________________________________________________________\n",
            "input_11 (InputLayer)           [(None, None)]       0                                            \n",
            "__________________________________________________________________________________________________\n",
            "embedding_5 (Embedding)         (None, None, 200)    378800      input_10[0][0]                   \n",
            "__________________________________________________________________________________________________\n",
            "embedding_6 (Embedding)         (None, None, 200)    378800      input_11[0][0]                   \n",
            "__________________________________________________________________________________________________\n",
            "lstm_4 (LSTM)                   [(None, 200), (None, 320800      embedding_5[0][0]                \n",
            "__________________________________________________________________________________________________\n",
            "lstm_5 (LSTM)                   [(None, None, 200),  320800      embedding_6[0][0]                \n",
            "                                                                 lstm_4[0][1]                     \n",
            "                                                                 lstm_4[0][2]                     \n",
            "__________________________________________________________________________________________________\n",
            "dense_2 (Dense)                 (None, None, 1894)   380694      lstm_5[0][0]                     \n",
            "==================================================================================================\n",
            "Total params: 1,779,894\n",
            "Trainable params: 1,779,894\n",
            "Non-trainable params: 0\n",
            "__________________________________________________________________________________________________\n"
          ],
          "name": "stdout"
        }
      ]
    },
    {
      "cell_type": "code",
      "metadata": {
        "id": "Yb78KfyWxLZ6",
        "colab_type": "code",
        "colab": {
          "base_uri": "https://localhost:8080/",
          "height": 1000
        },
        "outputId": "27302ebd-b3dd-4e79-90a2-4c10a703f7af"
      },
      "source": [
        "#lets do our training \n",
        "model.fit([encoder_input_data , decoder_input_data], decoder_output_data, batch_size=128, epochs=100 ) \n",
        "model.save( 'model.h5' ) "
      ],
      "execution_count": 16,
      "outputs": [
        {
          "output_type": "stream",
          "text": [
            "Train on 564 samples\n",
            "Epoch 1/100\n",
            "564/564 [==============================] - 6s 10ms/sample - loss: 1.4419\n",
            "Epoch 2/100\n",
            "564/564 [==============================] - 0s 722us/sample - loss: 1.1812\n",
            "Epoch 3/100\n",
            "564/564 [==============================] - 0s 729us/sample - loss: 1.1196\n",
            "Epoch 4/100\n",
            "564/564 [==============================] - 0s 712us/sample - loss: 1.1053\n",
            "Epoch 5/100\n",
            "564/564 [==============================] - 0s 718us/sample - loss: 1.0966\n",
            "Epoch 6/100\n",
            "564/564 [==============================] - 0s 738us/sample - loss: 1.0902\n",
            "Epoch 7/100\n",
            "564/564 [==============================] - 0s 733us/sample - loss: 1.0804\n",
            "Epoch 8/100\n",
            "564/564 [==============================] - 0s 727us/sample - loss: 1.0719\n",
            "Epoch 9/100\n",
            "564/564 [==============================] - 0s 804us/sample - loss: 1.0628\n",
            "Epoch 10/100\n",
            "564/564 [==============================] - 0s 734us/sample - loss: 1.0532\n",
            "Epoch 11/100\n",
            "564/564 [==============================] - 0s 733us/sample - loss: 1.0441\n",
            "Epoch 12/100\n",
            "564/564 [==============================] - 0s 731us/sample - loss: 1.0355\n",
            "Epoch 13/100\n",
            "564/564 [==============================] - 0s 736us/sample - loss: 1.0266\n",
            "Epoch 14/100\n",
            "564/564 [==============================] - 0s 730us/sample - loss: 1.0188\n",
            "Epoch 15/100\n",
            "564/564 [==============================] - 0s 734us/sample - loss: 1.0115\n",
            "Epoch 16/100\n",
            "564/564 [==============================] - 0s 752us/sample - loss: 1.0039\n",
            "Epoch 17/100\n",
            "564/564 [==============================] - 0s 726us/sample - loss: 0.9972\n",
            "Epoch 18/100\n",
            "564/564 [==============================] - 0s 723us/sample - loss: 0.9902\n",
            "Epoch 19/100\n",
            "564/564 [==============================] - 0s 763us/sample - loss: 0.9818\n",
            "Epoch 20/100\n",
            "564/564 [==============================] - 0s 732us/sample - loss: 0.9754\n",
            "Epoch 21/100\n",
            "564/564 [==============================] - 0s 720us/sample - loss: 0.9670\n",
            "Epoch 22/100\n",
            "564/564 [==============================] - 0s 729us/sample - loss: 0.9578\n",
            "Epoch 23/100\n",
            "564/564 [==============================] - 0s 733us/sample - loss: 0.9514\n",
            "Epoch 24/100\n",
            "564/564 [==============================] - 0s 703us/sample - loss: 0.9423\n",
            "Epoch 25/100\n",
            "564/564 [==============================] - 0s 754us/sample - loss: 0.9334\n",
            "Epoch 26/100\n",
            "564/564 [==============================] - 0s 740us/sample - loss: 0.9245\n",
            "Epoch 27/100\n",
            "564/564 [==============================] - 0s 717us/sample - loss: 0.9174\n",
            "Epoch 28/100\n",
            "564/564 [==============================] - 0s 736us/sample - loss: 0.9071\n",
            "Epoch 29/100\n",
            "564/564 [==============================] - 0s 723us/sample - loss: 0.8991\n",
            "Epoch 30/100\n",
            "564/564 [==============================] - 0s 741us/sample - loss: 0.8899\n",
            "Epoch 31/100\n",
            "564/564 [==============================] - 0s 738us/sample - loss: 0.8824\n",
            "Epoch 32/100\n",
            "564/564 [==============================] - 0s 728us/sample - loss: 0.8721\n",
            "Epoch 33/100\n",
            "564/564 [==============================] - 0s 726us/sample - loss: 0.8639\n",
            "Epoch 34/100\n",
            "564/564 [==============================] - 0s 727us/sample - loss: 0.8547\n",
            "Epoch 35/100\n",
            "564/564 [==============================] - 0s 733us/sample - loss: 0.8486\n",
            "Epoch 36/100\n",
            "564/564 [==============================] - 0s 721us/sample - loss: 0.8375\n",
            "Epoch 37/100\n",
            "564/564 [==============================] - 0s 727us/sample - loss: 0.8308\n",
            "Epoch 38/100\n",
            "564/564 [==============================] - 0s 734us/sample - loss: 0.8212\n",
            "Epoch 39/100\n",
            "564/564 [==============================] - 0s 722us/sample - loss: 0.8127\n",
            "Epoch 40/100\n",
            "564/564 [==============================] - 0s 742us/sample - loss: 0.8048\n",
            "Epoch 41/100\n",
            "564/564 [==============================] - 0s 725us/sample - loss: 0.8010\n",
            "Epoch 42/100\n",
            "564/564 [==============================] - 0s 726us/sample - loss: 0.7900\n",
            "Epoch 43/100\n",
            "564/564 [==============================] - 0s 750us/sample - loss: 0.7811\n",
            "Epoch 44/100\n",
            "564/564 [==============================] - 0s 726us/sample - loss: 0.7771\n",
            "Epoch 45/100\n",
            "564/564 [==============================] - 0s 731us/sample - loss: 0.7662\n",
            "Epoch 46/100\n",
            "564/564 [==============================] - 0s 725us/sample - loss: 0.7607\n",
            "Epoch 47/100\n",
            "564/564 [==============================] - 0s 724us/sample - loss: 0.7527\n",
            "Epoch 48/100\n",
            "564/564 [==============================] - 0s 745us/sample - loss: 0.7474\n",
            "Epoch 49/100\n",
            "564/564 [==============================] - 0s 744us/sample - loss: 0.7387\n",
            "Epoch 50/100\n",
            "564/564 [==============================] - 0s 736us/sample - loss: 0.7302\n",
            "Epoch 51/100\n",
            "564/564 [==============================] - 0s 737us/sample - loss: 0.7253\n",
            "Epoch 52/100\n",
            "564/564 [==============================] - 0s 732us/sample - loss: 0.7196\n",
            "Epoch 53/100\n",
            "564/564 [==============================] - 0s 725us/sample - loss: 0.7138\n",
            "Epoch 54/100\n",
            "564/564 [==============================] - 0s 723us/sample - loss: 0.7036\n",
            "Epoch 55/100\n",
            "564/564 [==============================] - 0s 736us/sample - loss: 0.6969\n",
            "Epoch 56/100\n",
            "564/564 [==============================] - 0s 723us/sample - loss: 0.6950\n",
            "Epoch 57/100\n",
            "564/564 [==============================] - 0s 713us/sample - loss: 0.6845\n",
            "Epoch 58/100\n",
            "564/564 [==============================] - 0s 734us/sample - loss: 0.6792\n",
            "Epoch 59/100\n",
            "564/564 [==============================] - 0s 721us/sample - loss: 0.6733\n",
            "Epoch 60/100\n",
            "564/564 [==============================] - 0s 733us/sample - loss: 0.6661\n",
            "Epoch 61/100\n",
            "564/564 [==============================] - 0s 746us/sample - loss: 0.6589\n",
            "Epoch 62/100\n",
            "564/564 [==============================] - 0s 725us/sample - loss: 0.6532\n",
            "Epoch 63/100\n",
            "564/564 [==============================] - 0s 726us/sample - loss: 0.6473\n",
            "Epoch 64/100\n",
            "564/564 [==============================] - 0s 729us/sample - loss: 0.6401\n",
            "Epoch 65/100\n",
            "564/564 [==============================] - 0s 745us/sample - loss: 0.6377\n",
            "Epoch 66/100\n",
            "564/564 [==============================] - 0s 726us/sample - loss: 0.6301\n",
            "Epoch 67/100\n",
            "564/564 [==============================] - 0s 734us/sample - loss: 0.6221\n",
            "Epoch 68/100\n",
            "564/564 [==============================] - 0s 741us/sample - loss: 0.6169\n",
            "Epoch 69/100\n",
            "564/564 [==============================] - 0s 722us/sample - loss: 0.6119\n",
            "Epoch 70/100\n",
            "564/564 [==============================] - 0s 733us/sample - loss: 0.6043\n",
            "Epoch 71/100\n",
            "564/564 [==============================] - 0s 732us/sample - loss: 0.5972\n",
            "Epoch 72/100\n",
            "564/564 [==============================] - 0s 720us/sample - loss: 0.5938\n",
            "Epoch 73/100\n",
            "564/564 [==============================] - 0s 742us/sample - loss: 0.5862\n",
            "Epoch 74/100\n",
            "564/564 [==============================] - 0s 724us/sample - loss: 0.5823\n",
            "Epoch 75/100\n",
            "564/564 [==============================] - 0s 742us/sample - loss: 0.5734\n",
            "Epoch 76/100\n",
            "564/564 [==============================] - 0s 727us/sample - loss: 0.5688\n",
            "Epoch 77/100\n",
            "564/564 [==============================] - 0s 734us/sample - loss: 0.5629\n",
            "Epoch 78/100\n",
            "564/564 [==============================] - 0s 734us/sample - loss: 0.5567\n",
            "Epoch 79/100\n",
            "564/564 [==============================] - 0s 722us/sample - loss: 0.5495\n",
            "Epoch 80/100\n",
            "564/564 [==============================] - 0s 742us/sample - loss: 0.5470\n",
            "Epoch 81/100\n",
            "564/564 [==============================] - 0s 719us/sample - loss: 0.5392\n",
            "Epoch 82/100\n",
            "564/564 [==============================] - 0s 727us/sample - loss: 0.5336\n",
            "Epoch 83/100\n",
            "564/564 [==============================] - 0s 747us/sample - loss: 0.5263\n",
            "Epoch 84/100\n",
            "564/564 [==============================] - 0s 720us/sample - loss: 0.5246\n",
            "Epoch 85/100\n",
            "564/564 [==============================] - 0s 731us/sample - loss: 0.5167\n",
            "Epoch 86/100\n",
            "564/564 [==============================] - 0s 719us/sample - loss: 0.5127\n",
            "Epoch 87/100\n",
            "564/564 [==============================] - 0s 721us/sample - loss: 0.5051\n",
            "Epoch 88/100\n",
            "564/564 [==============================] - 0s 738us/sample - loss: 0.5011\n",
            "Epoch 89/100\n",
            "564/564 [==============================] - 0s 721us/sample - loss: 0.4939\n",
            "Epoch 90/100\n",
            "564/564 [==============================] - 0s 740us/sample - loss: 0.4893\n",
            "Epoch 91/100\n",
            "564/564 [==============================] - 0s 732us/sample - loss: 0.4818\n",
            "Epoch 92/100\n",
            "564/564 [==============================] - 0s 736us/sample - loss: 0.4796\n",
            "Epoch 93/100\n",
            "564/564 [==============================] - 0s 724us/sample - loss: 0.4735\n",
            "Epoch 94/100\n",
            "564/564 [==============================] - 0s 720us/sample - loss: 0.4680\n",
            "Epoch 95/100\n",
            "564/564 [==============================] - 0s 749us/sample - loss: 0.4610\n",
            "Epoch 96/100\n",
            "564/564 [==============================] - 0s 731us/sample - loss: 0.4567\n",
            "Epoch 97/100\n",
            "564/564 [==============================] - 0s 742us/sample - loss: 0.4491\n",
            "Epoch 98/100\n",
            "564/564 [==============================] - 0s 727us/sample - loss: 0.4506\n",
            "Epoch 99/100\n",
            "564/564 [==============================] - 0s 723us/sample - loss: 0.4387\n",
            "Epoch 100/100\n",
            "564/564 [==============================] - 0s 682us/sample - loss: 0.4353\n"
          ],
          "name": "stdout"
        }
      ]
    },
    {
      "cell_type": "code",
      "metadata": {
        "id": "jSCZVravyDSe",
        "colab_type": "code",
        "colab": {}
      },
      "source": [
        "def make_inference_models():\n",
        "    \n",
        "    encoder_model = tf.keras.models.Model(encoder_inputs, encoder_states)\n",
        "    \n",
        "    decoder_state_input_h = tf.keras.layers.Input(shape=( 200 ,))\n",
        "    decoder_state_input_c = tf.keras.layers.Input(shape=( 200 ,))\n",
        "    \n",
        "    decoder_states_inputs = [decoder_state_input_h, decoder_state_input_c]\n",
        "    \n",
        "    decoder_outputs, state_h, state_c = decoder_lstm(\n",
        "        decoder_embedding , initial_state=decoder_states_inputs)\n",
        "    decoder_states = [state_h, state_c]\n",
        "    decoder_outputs = decoder_dense(decoder_outputs)\n",
        "    decoder_model = tf.keras.models.Model(\n",
        "        [decoder_inputs] + decoder_states_inputs,\n",
        "        [decoder_outputs] + decoder_states)\n",
        "    \n",
        "    return encoder_model , decoder_model\n",
        "\n",
        "def str_to_tokens( sentence : str ):\n",
        "    words = sentence.lower().split()\n",
        "    tokens_list = list()\n",
        "    for word in words:\n",
        "        tokens_list.append( tokenizer.word_index[ word ] ) \n",
        "    return preprocessing.sequence.pad_sequences( [tokens_list] , maxlen=maxlen_questions , padding='post')\n"
      ],
      "execution_count": 0,
      "outputs": []
    },
    {
      "cell_type": "code",
      "metadata": {
        "id": "wNjDa6ZLyJAX",
        "colab_type": "code",
        "colab": {}
      },
      "source": [
        "enc_model , dec_model = make_inference_models()\n",
        "\n",
        "for _ in range(10):\n",
        "    states_values = enc_model.predict( str_to_tokens( input( 'Enter question : ' ) ) )\n",
        "    empty_target_seq = np.zeros( ( 1 , 1 ) )\n",
        "    empty_target_seq[0, 0] = tokenizer.word_index['start']\n",
        "    stop_condition = False\n",
        "    decoded_translation = ''\n",
        "    while not stop_condition :\n",
        "        dec_outputs , h , c = dec_model.predict([ empty_target_seq ] + states_values )\n",
        "        sampled_word_index = np.argmax( dec_outputs[0, -1, :] )\n",
        "        sampled_word = None\n",
        "        for word , index in tokenizer.word_index.items() :\n",
        "            if sampled_word_index == index :\n",
        "                decoded_translation += ' {}'.format( word )\n",
        "                sampled_word = word\n",
        "        \n",
        "        if sampled_word == 'end' or len(decoded_translation.split()) > maxlen_answers:\n",
        "            stop_condition = True\n",
        "            \n",
        "        empty_target_seq = np.zeros( ( 1 , 1 ) )  \n",
        "        empty_target_seq[ 0 , 0 ] = sampled_word_index\n",
        "        states_values = [ h , c ] \n",
        "\n",
        "    print( decoded_translation[:-3] )\n"
      ],
      "execution_count": 0,
      "outputs": []
    }
  ]
}